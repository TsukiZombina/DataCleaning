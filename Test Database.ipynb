{
 "cells": [
  {
   "cell_type": "markdown",
   "metadata": {},
   "source": [
    "# Test Database"
   ]
  },
  {
   "cell_type": "code",
   "execution_count": 1,
   "metadata": {},
   "outputs": [],
   "source": [
    "import numpy as np\n",
    "import pandas as pd"
   ]
  },
  {
   "cell_type": "markdown",
   "metadata": {},
   "source": [
    "Carga los datos del archivo .csv en un data frame de pandas."
   ]
  },
  {
   "cell_type": "code",
   "execution_count": 5,
   "metadata": {},
   "outputs": [],
   "source": [
    "df = pd.read_csv('test.csv')"
   ]
  },
  {
   "cell_type": "code",
   "execution_count": 6,
   "metadata": {},
   "outputs": [
    {
     "name": "stdout",
     "output_type": "stream",
     "text": [
      "Index(['A', 'B', 'C', 'D', 'E'], dtype='object')\n",
      "     A     B     C         D         E\n",
      "0  DEW  2019  2024  106.3460   33.6265\n",
      "1  RKP  2020  2024  231.9791   86.3217\n",
      "2  EVR  2019  2024  347.5707  715.2996\n",
      "3  KQC  2020  2024  561.5896  203.6205\n",
      "4  IVT  2019  2024   51.1574  781.1528\n"
     ]
    }
   ],
   "source": [
    "print(df.columns)\n",
    "print(df.head(5))"
   ]
  },
  {
   "cell_type": "markdown",
   "metadata": {},
   "source": [
    "## Algoritmo de fuerza bruta para encontrar dependencias funcionales\n",
    "\n",
    "El siguiente algoritmo de fuerza bruta determina las dependencias funcionales dados un data frame y dos columnas $c_{1}$ y $c_{2}$. "
   ]
  },
  {
   "cell_type": "code",
   "execution_count": 10,
   "metadata": {},
   "outputs": [
    {
     "name": "stdout",
     "output_type": "stream",
     "text": [
      "B = 2019 -> C = 2024\n",
      "B = 2020 -> C = 2024\n"
     ]
    }
   ],
   "source": [
    "def get_fd(df, c1, c2):\n",
    "    for value in df[c2].unique():\n",
    "        # Get all entries that contain 'value' in c2\n",
    "        df_value = df[df[c2] == value]\n",
    "        \n",
    "        if len(df_value) > 1:\n",
    "            #print(len(df_value))\n",
    "\n",
    "            # Check if all values in the column c1 are the same\n",
    "            uniques = df_value[c1].unique()\n",
    "            #print('Uniques of column {0} under {1} = {2}'.format(c1, c2, value))\n",
    "            #print(len(uniques))\n",
    "\n",
    "            if len(uniques) == 1:\n",
    "                print('{0} = {1} -> {2} = {3}'.format(c2, value, c1, uniques[0]))\n",
    "\n",
    "def search_fd(df):\n",
    "    for c1 in df.columns:\n",
    "        for c2 in df.columns:\n",
    "            if c1 is not c2:\n",
    "                get_fd(df, c1, c2)\n",
    "                \n",
    "search_fd(df)"
   ]
  },
  {
   "cell_type": "code",
   "execution_count": null,
   "metadata": {},
   "outputs": [],
   "source": []
  }
 ],
 "metadata": {
  "kernelspec": {
   "display_name": "Python 3",
   "language": "python",
   "name": "python3"
  },
  "language_info": {
   "codemirror_mode": {
    "name": "ipython",
    "version": 3
   },
   "file_extension": ".py",
   "mimetype": "text/x-python",
   "name": "python",
   "nbconvert_exporter": "python",
   "pygments_lexer": "ipython3",
   "version": "3.6.7"
  }
 },
 "nbformat": 4,
 "nbformat_minor": 2
}
