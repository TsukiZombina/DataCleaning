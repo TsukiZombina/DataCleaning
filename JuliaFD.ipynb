{
 "cells": [
  {
   "cell_type": "markdown",
   "metadata": {},
   "source": [
    "## Algorithm to find functional dependencies"
   ]
  },
  {
   "cell_type": "code",
   "execution_count": null,
   "metadata": {
    "lines_to_next_cell": 0
   },
   "outputs": [],
   "source": [
    "using Combinatorics\n",
    "using Formatting\n",
    "using CSV\n",
    "\n",
    "df = CSV.read(\"test.csv\")\n",
    "f = [:D]\n",
    "findex = findfirst(names(df) .== f[1])\n",
    "\n",
    "for alpha in collect(powerset(deleteat!(names(df), findex)))\n",
    "    if alpha != []\n",
    "        df_filtered = df[alpha]\n",
    "        \n",
    "        assumed_tuples = []\n",
    "        flag = true\n",
    "        \n",
    "        for index in 1:nrow(df);\n",
    "            print()\n",
    "            found = false\n",
    "            for tuple_index in assumed_tuples\n",
    "                if df_filtered[index, :] == df_filtered[tuple_index, :]\n",
    "                    found = true\n",
    "                    flag = df[index, f[1]] == df[tuple_index, f[1]]\n",
    "                    #print(\"index=\")\n",
    "                    #print(index)\n",
    "                    #println(df[index,f[1]])\n",
    "                    #print(\" \")\n",
    "                    #print(\"tuple index=\")\n",
    "                    #print(df[tuple_index,f[1]])\n",
    "                end\n",
    "            end\n",
    "            \n",
    "            #print(found)\n",
    "            if found == false\n",
    "               push!(assumed_tuples, index) \n",
    "            end\n",
    "        end\n",
    "        \n",
    "        if flag\n",
    "            fe = FormatExpr(\"{1} \\U027F6 {2}\")\n",
    "            printfmtln(fe, alpha, f)\n",
    "        end\n",
    "    #println(assumed_tuples)\n",
    "    end\n",
    "end"
   ]
  },
  {
   "cell_type": "code",
   "execution_count": null,
   "metadata": {
    "lines_to_next_cell": 2
   },
   "outputs": [],
   "source": []
  }
 ],
 "metadata": {
  "jupytext": {
   "formats": "ipynb,jl"
  },
  "kernelspec": {
   "display_name": "Julia 1.1.0",
   "language": "julia",
   "name": "julia-1.1"
  },
  "language_info": {
   "file_extension": ".jl",
   "mimetype": "application/julia",
   "name": "julia",
   "version": "1.1.0"
  }
 },
 "nbformat": 4,
 "nbformat_minor": 2
}
