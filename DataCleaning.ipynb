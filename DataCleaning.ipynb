{
 "cells": [
  {
   "cell_type": "markdown",
   "metadata": {},
   "source": [
    "# Limpieza de datos\n",
    "Como punto inicial se importan los paquetes necesarios para el procesamiento de los datos"
   ]
  },
  {
   "cell_type": "code",
   "execution_count": 1,
   "metadata": {},
   "outputs": [],
   "source": [
    "import numpy as np\n",
    "import pandas as pd"
   ]
  },
  {
   "cell_type": "markdown",
   "metadata": {},
   "source": [
    "Ahora se crea un data frame usando la función read_csv de pandas"
   ]
  },
  {
   "cell_type": "code",
   "execution_count": 2,
   "metadata": {},
   "outputs": [
    {
     "name": "stdout",
     "output_type": "stream",
     "text": [
      "      ID           HORA     FECHA    MES                     DELITO  \\\n",
      "600  601          19:40  23/01/16  ENERO                  EXTORSION   \n",
      "601  602  02:30 A 05:30  24/01/16  ENERO           ROBO DE VEHICULO   \n",
      "602  603           2:30  24/01/16  ENERO           ROBO DE VEHICULO   \n",
      "603  604  02:30 A 03:30  24/01/16  ENERO           ROBO DE VEHICULO   \n",
      "604  605  03:00 A 03:15  24/01/16  ENERO           ROBO DE VEHICULO   \n",
      "605  606           0:00  24/01/16  ENERO           ROBO DE VEHICULO   \n",
      "606  607          12:30  24/01/16  ENERO           ROBO DE VEHICULO   \n",
      "607  608  12:30 A 16:30  24/01/16  ENERO           ROBO DE VEHICULO   \n",
      "608  609  10:45 A 11:15  24/01/16  ENERO           ROBO DE VEHICULO   \n",
      "609  610  11:30 A 11:40  24/01/16  ENERO           ROBO DE VEHICULO   \n",
      "610  611          19:30  24/01/16  ENERO           ROBO DE VEHICULO   \n",
      "611  612  21:30 A 22:00  24/01/16  ENERO           ROBO DE VEHICULO   \n",
      "612  613           7:25  24/01/16  ENERO     ROBO A CUENTA HABIENTE   \n",
      "613  614          15:30  24/01/16  ENERO  ROBO A TRANSPORTE PUBLICO   \n",
      "614  615          20:40  24/01/16  ENERO  ROBO A TRANSPORTE PUBLICO   \n",
      "615  616          10:46  24/01/16  ENERO     ROBO A CASA HABITACION   \n",
      "616  617          18:22  24/01/16  ENERO     ROBO A CASA HABITACION   \n",
      "617  618          21:30  24/01/16  ENERO            ROBO A COMERCIO   \n",
      "618  619           1:00  24/01/16  ENERO        ROBO EN VIA PUBLICA   \n",
      "619  620          20:20  24/01/16  ENERO        ROBO EN VIA PUBLICA   \n",
      "620  621          22:30  24/01/16  ENERO                  EXTORSION   \n",
      "621  622          19:15  25/01/16  ENERO           ROBO DE VEHICULO   \n",
      "622  623  12:50 A 13:00  25/01/16  ENERO           ROBO DE VEHICULO   \n",
      "623  624          20:00  25/01/16  ENERO           ROBO DE VEHICULO   \n",
      "624  625  16:10 A 16:40  25/01/16  ENERO           ROBO DE VEHICULO   \n",
      "625  626          16:15  25/01/16  ENERO           ROBO DE VEHICULO   \n",
      "626  627          20:30  25/01/16  ENERO           ROBO DE VEHICULO   \n",
      "627  628          17:40  25/01/16  ENERO           ROBO DE VEHICULO   \n",
      "628  629          22:50  25/01/16  ENERO           ROBO DE VEHICULO   \n",
      "629  630  13:30 A 16:00  25/01/16  ENERO           ROBO DE VEHICULO   \n",
      "..   ...            ...       ...    ...                        ...   \n",
      "770  771           9:06  30/01/16  ENERO  ROBO A TRANSPORTE PUBLICO   \n",
      "771  772           3:20  30/01/16  ENERO            ROBO A COMERCIO   \n",
      "772  773          13:22  30/01/16  ENERO            ROBO A COMERCIO   \n",
      "773  774           0:40  30/01/16  ENERO        ROBO EN VIA PUBLICA   \n",
      "774  775          20:50  30/01/16  ENERO        ROBO EN VIA PUBLICA   \n",
      "775  776          22:15  30/01/16  ENERO        ROBO EN VIA PUBLICA   \n",
      "776  777          23:00  30/01/16  ENERO        ROBO EN VIA PUBLICA   \n",
      "777  778          16:55  30/01/16  ENERO                  EXTORSION   \n",
      "778  779          14:00  30/01/16  ENERO                  EXTORSION   \n",
      "779  780          12:12  30/01/16  ENERO                  EXTORSION   \n",
      "780  781  00:01 A 07:00  31/01/16  ENERO           ROBO DE VEHICULO   \n",
      "781  782  11:00 A 11:31  31/01/16  ENERO           ROBO DE VEHICULO   \n",
      "782  783          21:14  31/01/16  ENERO           ROBO DE VEHICULO   \n",
      "783  784  07:00 A 07:40  31/01/16  ENERO           ROBO DE VEHICULO   \n",
      "784  785          12:30  31/01/16  ENERO           ROBO DE VEHICULO   \n",
      "785  786          16:00  31/01/16  ENERO           ROBO DE VEHICULO   \n",
      "786  787  17:10 A 18:00  31/01/16  ENERO           ROBO DE VEHICULO   \n",
      "787  788           2:00  31/01/16  ENERO                  HOMICIDIO   \n",
      "788  789          10:16  31/01/16  ENERO  ROBO A TRANSPORTE PUBLICO   \n",
      "789  790          17:30  31/01/16  ENERO                  VIOLACION   \n",
      "790  791          16:01  31/01/16  ENERO     ROBO A CASA HABITACION   \n",
      "791  792          23:18  31/01/16  ENERO     ROBO A CASA HABITACION   \n",
      "792  793           1:15  31/01/16  ENERO            ROBO A COMERCIO   \n",
      "793  794           8:13  31/01/16  ENERO            ROBO A COMERCIO   \n",
      "794  795          18:46  31/01/16  ENERO            ROBO A COMERCIO   \n",
      "795  796          19:05  31/01/16  ENERO            ROBO A COMERCIO   \n",
      "796  797          20:30  31/01/16  ENERO            ROBO A COMERCIO   \n",
      "797  798          21:30  31/01/16  ENERO            ROBO A COMERCIO   \n",
      "798  799           8:35  31/01/16  ENERO        ROBO EN VIA PUBLICA   \n",
      "799  800           9:01  31/01/16  ENERO        ROBO EN VIA PUBLICA   \n",
      "\n",
      "                        CALLE  No.              ENTRE_CALLE_1  \\\n",
      "600       AV. FRANCISCO VILLA  NaN                   VERACRUZ   \n",
      "601                   CALLE 2   81                    4ta AV.   \n",
      "602                   IXTAPAN  NaN                   COATEPEC   \n",
      "603                   PAROTAS   75                    ENCINOS   \n",
      "604           FRANCISCO VILLA  NaN                GUSTAVO BAZ   \n",
      "605                ORIENTE 30  NaN              AV. PANTITLAN   \n",
      "606               AV. CENTRAL  NaN          AV. DE LAS TORRES   \n",
      "607      HACIENDA DE TOMACOCO  NaN       HACIENDA DE LA GAVIA   \n",
      "608             AV. CUAHTEMOC  NaN                    4ta AV.   \n",
      "609       AV. FRANCISCO ZARCO  NaN                    4ta AV.   \n",
      "610                LAGO GUIJA  NaN           LAGUNA DE MAYRAN   \n",
      "611                  MIXCALCO  NaN              AV. PANTITLAN   \n",
      "612             AV. PANTITLAN  NaN                  SAN ANGEL   \n",
      "613                  CALLE 26  NaN           AV. CHIMALHUACAN   \n",
      "614            AV. NEZAHUALCO  NaN                  HORTENCIA   \n",
      "615              PALOMA NEGRA   13             CAMA DE PIEDRA   \n",
      "616                  MACORINA  493      AV. BORDO DE XOCHIACA   \n",
      "617                  CALLE 18  NaN                    7ma AV.   \n",
      "618       AV. VICENTE VILLADA  NaN                  MADRUGADA   \n",
      "619                  TLAXPANA  NaN                   TACUBAYA   \n",
      "620      VALLE DE LOS ANGELES  123             VALLE DE YUKON   \n",
      "621                  CALLE 19   51                      AV. 1   \n",
      "622                LAGO ONEGA  NaN               LAGO MUSTERS   \n",
      "623                  CALLE 12  NaN                     JUAREZ   \n",
      "624                AV. MEXICO  NaN                   COATEPEC   \n",
      "625                  COATEPEC  NaN                   TONATICO   \n",
      "626             AV. PANTITLAN  NaN                 JESUS RICO   \n",
      "627        LAGUNA DE ZEMPOALA  NaN             LAGO CONSTANZA   \n",
      "628                   GIRASOL  NaN                       ROSA   \n",
      "629             BENITO JUAREZ  NaN              NICOLAS BRAVO   \n",
      "..                        ...  ...                        ...   \n",
      "770   BOSQUES DE LAS NACIONES  NaN        BOSQUES DE COLOMBIA   \n",
      "771  AV. VALLE DE LAS ZAPATAS  NaN                   CALLE 18   \n",
      "772             LAGO CONTANZA  NaN           AV. CHIMALHUACAN   \n",
      "773               PONIENTE 13  332                    NORTE 1   \n",
      "774                   CALLE 7  NaN                 ATZAYACATL   \n",
      "775               LAGO CHALCO  NaN           AV. CHIMALHUACAN   \n",
      "776                 SAN ANGEL  NaN      GLORIETA DE PETROLEOS   \n",
      "777                 SAN ANGEL  202       GLORIETA DE BUCARELI   \n",
      "778                     BAMBA  460          CORRIDO DEL NORTE   \n",
      "779     AV. BORDO DE XOCHIACA  NaN           AV. RIVA PALACIO   \n",
      "780                   RIELERA  435          CORRIDO DEL NORTE   \n",
      "781             AV. CUAHTEMOC  NaN                    4ta AV.   \n",
      "782             DOS ARBOLITOS  NaN                  MANANITAS   \n",
      "783                    CAPIRO  315        AV. DR. GUSTAVO BAZ   \n",
      "784                CHAPARRITA  NaN                  MANANITAS   \n",
      "785          AV. CHIMALHUACAN  NaN                   CALLE 18   \n",
      "786             NICOLAS BRAVO  182                     ALDAMA   \n",
      "787           IGANCIO ALLENDE   56                AV. TEXCOCO   \n",
      "788            AV. PERIFERICO  NaN                AV. PIRULES   \n",
      "789               LAGO CHALCO  NaN             AV. AEROPUERTO   \n",
      "790              NINOS HEROES  150                     OAXACA   \n",
      "791       EDIFICIO DE CORREOS  241       GLORIETA DE BUCARELI   \n",
      "792                 MALAGUENA  453      AV. BORDO DE XOCHIACA   \n",
      "793               AV. TEXCOCO  NaN  JOSEFA ORTIZ DE DOMINGUEZ   \n",
      "794   AV. ADOLFO LOPEZ MATEOS  NaN              CIELITO LINDO   \n",
      "795               5A. AVENIDA  NaN                 ALCAICERIA   \n",
      "796                    MONEDA  NaN              AV. PANTITLAN   \n",
      "797             AV. PANTITLAN  NaN                   PLATEROS   \n",
      "798              AV. FLORESTA  NaN              AV. PANTITLAN   \n",
      "799                   CIVISMO   96                  GEOMETRIA   \n",
      "\n",
      "               ENTRE_CALLE_2                         COLONIA  SECTOR  \\\n",
      "600                      NaN           CAMPESTRE GUADALUPANA     1.0   \n",
      "601                     6 AV                ESTADO DE MEXICO     5.0   \n",
      "602                      NaN       METROPOLITANA 1ra SECCION     8.0   \n",
      "603               CALAMBUCOS                        LA PERLA    12.0   \n",
      "604           ALFONSO SIERRA           SAN AGUSTIN ATLAPULCO    14.0   \n",
      "605                      NaN                         REFORMA    15.0   \n",
      "606                      NaN             VERGEL DE GUADALUPE     1.0   \n",
      "607                      NaN                       IMPULSORA     2.0   \n",
      "608                      NaN                ESTADO DE MEXICO     5.0   \n",
      "609                      NaN  TAMAULIPAS SECCION VIRGENCITAS     5.0   \n",
      "610  LAGUNA DE SAN CRISTOBAL                       AGUA AZUL     9.0   \n",
      "611    GLORIETA DE PETROLEOS      AMPLIACION VICENTE VILLADA     9.0   \n",
      "612                   JUAREZ      AMPLIACION VICENTE VILLADA     9.0   \n",
      "613                      NaN                      MARAVILLAS     6.0   \n",
      "614                      NaN    TAMAULIPAS SECCION EL PALMAR    10.0   \n",
      "615                ESCONDIDA                 BENITO JUAREZ I     9.0   \n",
      "616        CORRIDO DEL NORTE               BENITO JUAREZ III    11.0   \n",
      "617                      NaN                          EL SOL     4.0   \n",
      "618                      NaN                BENITO JUAREZ II    10.0   \n",
      "619                      NaN                 VICENTE VILLADA    13.0   \n",
      "620        VALLE DE SAMANZAS     VALLE DE ARAGON 1ra SECCION     1.0   \n",
      "621         AV. CONSTITUCION           JARDINES DE GUADALUPE     1.0   \n",
      "622                      NaN                     CIUDAD LAGO     3.0   \n",
      "623                   OAXACA                JUAREZ PANTITLAN     7.0   \n",
      "624                      NaN                     RAUL ROMERO     7.0   \n",
      "625                      NaN                     ATLACOMULCO     8.0   \n",
      "626                      NaN                          MODELO     8.0   \n",
      "627                      NaN                       AGUA AZUL     9.0   \n",
      "628                      NaN   TAMAULIPAS SECCION LAS FLORES    10.0   \n",
      "629                      NaN                    SANTA MARTHA    13.0   \n",
      "..                       ...                             ...     ...   \n",
      "770                      NaN               BOSQUES DE ARAGON     3.0   \n",
      "771                      NaN           CAMPESTRE GUADALUPANA     1.0   \n",
      "772                      NaN                       AGUA AZUL     9.0   \n",
      "773            AV. PANTITLAN                        LA PERLA    14.0   \n",
      "774                      NaN                  NEZAHUALCOYOTL     6.0   \n",
      "775       LAGUNA DE TERMINOS                       AGUA AZUL     9.0   \n",
      "776                      NaN      AMPLIACION VICENTE VILLADA     9.0   \n",
      "777                      NaN      AMPLIACION VICENTE VILLADA     8.0   \n",
      "778    AV. BORDO DE XOCHIACA               BENITO JUAREZ III    11.0   \n",
      "779                      NaN                          EL SOL     4.0   \n",
      "780            RANCHO GRANDE               BENITO JUAREZ III    11.0   \n",
      "781                      NaN                ESTADO DE MEXICO     5.0   \n",
      "782                      NaN                BENITO JUAREZ II    10.0   \n",
      "783                      NaN                BENITO JUAREZ II    10.0   \n",
      "784                      NaN               BENITO JUAREZ III    11.0   \n",
      "785                      NaN                       ESPERANZA    14.0   \n",
      "786                MATAMOROS                     LOMA BONITA    15.0   \n",
      "787         16 DE SEPTIEMBRE                    SANTA MARTHA    13.0   \n",
      "788                      NaN                  NEZAHUALCOYOTL     6.0   \n",
      "789           AV. PERIFERICO          AMPLIACION CIUDAD LAGO     3.0   \n",
      "790                   PUEBLA                JUAREZ PANTITLAN     7.0   \n",
      "791                      NaN                       EVOLUCION     8.0   \n",
      "792        CORRIDO DEL NORTE               BENITO JUAREZ III    11.0   \n",
      "793                      NaN                     LOMA BONITA    15.0   \n",
      "794                      NaN                 BENITO JUAREZ I    10.0   \n",
      "795                      NaN                   PORFIRIO DIAZ     9.0   \n",
      "796                      NaN                   PORFIRIO DIAZ     8.0   \n",
      "797                      NaN                   PORFIRIO DIAZ     8.0   \n",
      "798                      NaN                         REFORMA    15.0   \n",
      "799            AV. PANTITLAN                      LAS PALMAS     6.0   \n",
      "\n",
      "    CUADRANTE  TURNO          X          Y  \n",
      "600      C016      2 -99.067338  19.487879  \n",
      "601      C054      2 -99.053614  19.425214  \n",
      "602      C081      2 -99.035611  19.400281  \n",
      "603      C125      2 -99.000721  19.388441  \n",
      "604      C142      2 -98.974478  19.383902  \n",
      "605      C153      2 -98.972397  19.372632  \n",
      "606      C018      3 -99.055017  19.473766  \n",
      "607      C024      3 -99.045618  19.478072  \n",
      "608      C051      3 -99.048015  19.424773  \n",
      "609      C053      3 -99.033530  19.420904  \n",
      "610      C091      1 -99.032709  19.408315  \n",
      "611      C097      1 -99.017179  19.395100  \n",
      "612      C097      3 -99.013914  19.393348  \n",
      "613      C063      3 -99.044054  19.418594  \n",
      "614      C105      1 -99.029551  19.415683  \n",
      "615      C093      3 -99.018281  19.403813  \n",
      "616      C111      3 -98.991921  19.413316  \n",
      "617      C044      1 -99.041896  19.429590  \n",
      "618      C104      2 -99.002504  19.409457  \n",
      "619      C134      1 -99.012354  19.382982  \n",
      "620      C011      1 -99.065784  19.492207  \n",
      "621      C016      3 -99.061017  19.479924  \n",
      "622      C034      2 -99.051747  19.457185  \n",
      "623      C071      3 -99.056253  19.407487  \n",
      "624      C074      2 -99.039908  19.402087  \n",
      "625      C081      2 -99.036856  19.400781  \n",
      "626      C081      3 -99.030998  19.400484  \n",
      "627      C091      2 -99.027328  19.406272  \n",
      "628      C101      3 -99.021213  19.421167  \n",
      "629      C133      2 -98.995346  19.377488  \n",
      "..        ...    ...        ...        ...  \n",
      "770      C031      3 -99.051446  19.464571  \n",
      "771      C014      2 -99.058495  19.487194  \n",
      "772      C091      3 -99.025134  19.410576  \n",
      "773      C145      2 -98.987766  19.381175  \n",
      "774      C066      1 -99.055674  19.414534  \n",
      "775      C091      1 -99.027081  19.410348  \n",
      "776      C097      1 -99.012696  19.394861  \n",
      "777      C083      3 -99.014630  19.391189  \n",
      "778      C112      3 -98.988688  19.410746  \n",
      "779      C044      3 -99.037627  19.426641  \n",
      "780      C111      1 -98.994573  19.412253  \n",
      "781      C055      2 -99.047713  19.424526  \n",
      "782      C104      3 -99.007373  19.414408  \n",
      "783      C103      2 -99.002341  19.413364  \n",
      "784      C113      2 -98.993745  19.407803  \n",
      "785      C142      2 -98.981946  19.389757  \n",
      "786      C151      2 -98.985894  19.374292  \n",
      "787      C136      1 -98.996812  19.372381  \n",
      "788      C066      2 -99.056288  19.415387  \n",
      "789      C033      2 -99.038658  19.467682  \n",
      "790      C076      2 -99.052091  19.404407  \n",
      "791      C082      3 -99.025373  19.396179  \n",
      "792      C111      1 -98.994953  19.414229  \n",
      "793      C154      2 -98.992446  19.368199  \n",
      "794      C106      2 -99.021761  19.411741  \n",
      "795      C095      3 -99.031341  19.406300  \n",
      "796      C081      3 -99.032977  19.401420  \n",
      "797      C081      3 -99.032609  19.401264  \n",
      "798      C152      2 -98.980361  19.376537  \n",
      "799      C066      2 -99.051901  19.411157  \n",
      "\n",
      "[200 rows x 15 columns]\n"
     ]
    }
   ],
   "source": [
    "df = pd.read_csv('Delitos.csv')\n",
    "print(df[600:800])"
   ]
  },
  {
   "cell_type": "markdown",
   "metadata": {},
   "source": [
    "Una vez cargados los datos en el data frame es posible acceder a los datos de cada columna usando el nombre correspondiente. Para ver las columnas contenidas en el dataframe basta con usar el atributo columns:"
   ]
  },
  {
   "cell_type": "code",
   "execution_count": 3,
   "metadata": {},
   "outputs": [
    {
     "name": "stdout",
     "output_type": "stream",
     "text": [
      "Index(['ID', 'HORA', 'FECHA', 'MES', 'DELITO', 'CALLE', 'No.', 'ENTRE_CALLE_1',\n",
      "       'ENTRE_CALLE_2', 'COLONIA', 'SECTOR', 'CUADRANTE', 'TURNO', 'X', 'Y'],\n",
      "      dtype='object')\n"
     ]
    }
   ],
   "source": [
    "print(df.columns)"
   ]
  },
  {
   "cell_type": "markdown",
   "metadata": {},
   "source": [
    "De acuerdo a lo anterior, para imprimir la calle en la que fueron cometidos los primeros 10 delitos se puede utilizar ademas el método head()."
   ]
  },
  {
   "cell_type": "code",
   "execution_count": 4,
   "metadata": {},
   "outputs": [
    {
     "name": "stdout",
     "output_type": "stream",
     "text": [
      "0      VALLE DE MEXICO\n",
      "1        RANCHO GRANDE\n",
      "2             LAURELES\n",
      "3        LAGO GRAN OSO\n",
      "4        LA CHAPARRITA\n",
      "5               FAISAN\n",
      "6      VALLE DE MEXICO\n",
      "7        AV. PANTITLAN\n",
      "8            CLAVELERO\n",
      "9    VALLE DE IRAGUADI\n",
      "Name: CALLE, dtype: object\n"
     ]
    }
   ],
   "source": [
    "print(df['CALLE'].head(10))"
   ]
  },
  {
   "cell_type": "markdown",
   "metadata": {},
   "source": [
    "De manera similar se puede utilizar el metodo tail() para imprimir los datos al final de la columna:"
   ]
  },
  {
   "cell_type": "code",
   "execution_count": 5,
   "metadata": {},
   "outputs": [
    {
     "name": "stdout",
     "output_type": "stream",
     "text": [
      "16405           NaN\n",
      "16406           NaN\n",
      "16407           NaN\n",
      "16408           NaN\n",
      "16409           NaN\n",
      "16410           NaN\n",
      "16411           NaN\n",
      "16412           NaN\n",
      "16413           NaN\n",
      "16414           NaN\n",
      "16415           NaN\n",
      "16416           NaN\n",
      "16417           154\n",
      "16418    MZ.30 LT.8\n",
      "16419           NaN\n",
      "16420            48\n",
      "16421           NaN\n",
      "16422           NaN\n",
      "16423           NaN\n",
      "16424           NaN\n",
      "Name: No., dtype: object\n"
     ]
    }
   ],
   "source": [
    "print(df['No.'].tail(20))"
   ]
  },
  {
   "cell_type": "markdown",
   "metadata": {},
   "source": [
    "## Redondear valores"
   ]
  },
  {
   "cell_type": "code",
   "execution_count": 6,
   "metadata": {},
   "outputs": [],
   "source": [
    "df = df.round({'X': 6, 'Y': 6})"
   ]
  },
  {
   "cell_type": "markdown",
   "metadata": {},
   "source": [
    "## Rellenar campos vacíos"
   ]
  },
  {
   "cell_type": "markdown",
   "metadata": {},
   "source": [
    "Como puede observarse varios de los registros de la columna \"No.\" no tienen un valor asociado. Una de las labores principales de cualquier proceso de limpieza de datos es asegurarse que los mismos estén estandarizados, en consecuencia es necesario eliminar esta anomalia. Para tal fin, cada registro que no tenga un valor en la columna \"No.\" serán llenado con la leyenda \"Sin No.\". Para realizar esta transformación basta con usar el metodo fillna() de una serie. Este método regresa una copia de la serie donde cada NaN es sustituido por el valor dado."
   ]
  },
  {
   "cell_type": "code",
   "execution_count": 7,
   "metadata": {},
   "outputs": [
    {
     "name": "stdout",
     "output_type": "stream",
     "text": [
      "16405       Sin No.\n",
      "16406       Sin No.\n",
      "16407       Sin No.\n",
      "16408       Sin No.\n",
      "16409       Sin No.\n",
      "16410       Sin No.\n",
      "16411       Sin No.\n",
      "16412       Sin No.\n",
      "16413       Sin No.\n",
      "16414       Sin No.\n",
      "16415       Sin No.\n",
      "16416       Sin No.\n",
      "16417           154\n",
      "16418    MZ.30 LT.8\n",
      "16419       Sin No.\n",
      "16420            48\n",
      "16421       Sin No.\n",
      "16422       Sin No.\n",
      "16423       Sin No.\n",
      "16424       Sin No.\n",
      "Name: No., dtype: object\n"
     ]
    }
   ],
   "source": [
    "print(df['No.'].fillna('Sin No.').tail(20))"
   ]
  },
  {
   "cell_type": "markdown",
   "metadata": {},
   "source": [
    "Ya que la columna 'No.' no es la única columna que presenta esta anomalia, es necesario realizar el proceso anterior para todas las columnas del dataframe."
   ]
  },
  {
   "cell_type": "code",
   "execution_count": 8,
   "metadata": {},
   "outputs": [],
   "source": [
    "for column in df.columns:\n",
    "    df[column] = df[column].fillna('Sin ' + column)"
   ]
  },
  {
   "cell_type": "markdown",
   "metadata": {},
   "source": [
    "El proceso anterior elimina las anomalias relacionadas con datos faltantes. Sin embargo, existen otros problemas que deben ser solucionados antes de que los datos puedan considerarse estandarizados. Por ejemplo, considere los datos que muestran la hora en la que fue cometido un delito."
   ]
  },
  {
   "cell_type": "code",
   "execution_count": 9,
   "metadata": {},
   "outputs": [
    {
     "name": "stdout",
     "output_type": "stream",
     "text": [
      "0    22:30 A 04:00\n",
      "1             6:40\n",
      "2            13:30\n",
      "3    03:00 A 05:00\n",
      "4            14:00\n",
      "5             0:05\n",
      "6             4:00\n",
      "7             4:58\n",
      "8            18:13\n",
      "9            19:40\n",
      "Name: HORA, dtype: object\n"
     ]
    }
   ],
   "source": [
    "print(df['HORA'].head(10))"
   ]
  },
  {
   "cell_type": "markdown",
   "metadata": {},
   "source": [
    "## Unificar el formato de las horas"
   ]
  },
  {
   "cell_type": "markdown",
   "metadata": {},
   "source": [
    "Como se puede observar los datos tienen formatos diferentes. Existen registros que contienen una hora de inicio y una hora de fin. Con el objetivo de tener registro con entradas consistentes los datos de esta columna deben ser divididos. La columna 'HORA_INICIO' tendrá la hora en la que comenzó el delito, y la columna 'HORA_FIN' tendrá la hora en la que terminó el delito. Para aquellos registros que solo tengan una hora se tendra que la hora de inicio y la hora de fin será la misma."
   ]
  },
  {
   "cell_type": "code",
   "execution_count": 10,
   "metadata": {},
   "outputs": [],
   "source": [
    "df['HORA_INICIO'], df['HORA_FIN'] = df['HORA'].str.split(' A ', 1).str\n",
    "df['HORA_FIN'] = np.where(pd.isna(df['HORA_FIN']), df['HORA_INICIO'], df['HORA_FIN'])"
   ]
  },
  {
   "cell_type": "markdown",
   "metadata": {},
   "source": [
    "## Unificar el formato de las fechas"
   ]
  },
  {
   "cell_type": "markdown",
   "metadata": {},
   "source": [
    "Se modificará el formato de las fechas de tal forma que todas ellas sean de la forma dd/mm/aaaa"
   ]
  },
  {
   "cell_type": "code",
   "execution_count": 11,
   "metadata": {},
   "outputs": [
    {
     "name": "stdout",
     "output_type": "stream",
     "text": [
      "0          1/1/2016\n",
      "1          1/1/2016\n",
      "2          1/1/2016\n",
      "3          1/1/2016\n",
      "4          1/1/2016\n",
      "5          1/1/2016\n",
      "6          1/1/2016\n",
      "7          1/1/2016\n",
      "8          1/1/2016\n",
      "9          1/1/2016\n",
      "10         1/1/2016\n",
      "11         1/1/2016\n",
      "12         1/1/2016\n",
      "13         1/1/2016\n",
      "14         1/1/2016\n",
      "15         1/1/2016\n",
      "16         1/1/2016\n",
      "17         1/1/2016\n",
      "18         2/1/2016\n",
      "19         2/1/2016\n",
      "20         2/1/2016\n",
      "21         2/1/2016\n",
      "22         2/1/2016\n",
      "23         2/1/2016\n",
      "24         2/1/2016\n",
      "25         2/1/2016\n",
      "26         2/1/2016\n",
      "27         2/1/2016\n",
      "28         2/1/2016\n",
      "29         2/1/2016\n",
      "            ...    \n",
      "16395    29/09/2017\n",
      "16396    29/09/2017\n",
      "16397    29/09/2017\n",
      "16398    29/09/2017\n",
      "16399     10/9/2017\n",
      "16400     11/9/2017\n",
      "16401     11/9/2017\n",
      "16402    14/09/2017\n",
      "16403    13/09/2017\n",
      "16404    13/09/2017\n",
      "16405    14/09/2017\n",
      "16406    14/09/2017\n",
      "16407    15/09/2017\n",
      "16408    16/09/2017\n",
      "16409    17/09/2017\n",
      "16410    18/09/2017\n",
      "16411    19/09/2017\n",
      "16412    21/09/2017\n",
      "16413    22/09/2017\n",
      "16414    23/09/2017\n",
      "16415    26/09/2017\n",
      "16416    28/09/2017\n",
      "16417    13/09/2017\n",
      "16418    30/09/2017\n",
      "16419    30/09/2017\n",
      "16420    30/09/2017\n",
      "16421    30/09/2017\n",
      "16422    30/09/2017\n",
      "16423    30/09/2017\n",
      "16424    30/09/2017\n",
      "Name: FECHA, Length: 16425, dtype: object\n"
     ]
    }
   ],
   "source": [
    "import datetime as dt\n",
    "#dfDate = df['FECHA']\n",
    "#pd.to_datetime(dfDate, infer_datetime_format=True)\n",
    "#df['FECHA'] = pd.to_datetime(dfDate, format = '%d/%m/%y')\n",
    "\n",
    "#for row in bad_dates['FECHA'].str.split('-',3):\n",
    "    #if len(row) is 2:\n",
    "        #row.append('2017')\n",
    "        \n",
    "        #if len(row[0]) is 1:\n",
    "            #row[0] = '0' + row[0]\n",
    "            \n",
    "        #print(row[0] + '/' + row[1] + '/' + row[2])\n",
    "        \n",
    "# First remove rows were month is given with a name\n",
    "df['FECHA'] = df['FECHA'].str.replace('Jul', '07', regex=False)\n",
    "df['FECHA'] = df['FECHA'].str.replace('ago', '08', regex=False)\n",
    "\n",
    "# Now unify day, month, year separator\n",
    "df['FECHA'] = df['FECHA'].str.replace('-', '/', regex=False)\n",
    "\n",
    "# Add missing year\n",
    "dates = df['FECHA'].str.extract(r'^((\\d{2}|\\d{1})/(\\d{2}|\\d{1})/(\\d{4}|\\d{2}))', expand=False)\n",
    "#dates = df['FECHA'].str.extract(r'^((\\d{2}|\\d{1})/(\\d{2}|\\d{1})/(\\d{4}))', expand=False)\n",
    "\n",
    "df['FECHA'] = np.where(dates[0].isnull(), df['FECHA'] + '/2017', df['FECHA'])\n",
    "\n",
    "dates = df['FECHA'].str.extract(r'(/(\\d{2}))$', expand=False)\n",
    "dates2 = df['FECHA'].str.extract(r'^((\\d{2}|\\d{1})/(\\d{2}|\\d{1})/)', expand=False)\n",
    "#print(dates2)\n",
    "df['FECHA'] = np.where(dates[0].notnull(), dates2[0] + '20' + dates[1], df['FECHA'])\n",
    "print(df['FECHA'])"
   ]
  },
  {
   "cell_type": "markdown",
   "metadata": {},
   "source": [
    "## Eliminar espacios al inicio y final de la cadena de caracteres"
   ]
  },
  {
   "cell_type": "code",
   "execution_count": 12,
   "metadata": {},
   "outputs": [],
   "source": [
    "for column in df.columns:\n",
    "    df[column] = df[column].map(lambda x: str(x).strip())"
   ]
  },
  {
   "cell_type": "markdown",
   "metadata": {},
   "source": [
    "## Cambiar el orden de las columnas"
   ]
  },
  {
   "cell_type": "markdown",
   "metadata": {},
   "source": [
    "Para modificar el orden de las columnas agregadas recientemente y tenerlas de forma organizada, se puede hacer de la siguiente forma."
   ]
  },
  {
   "cell_type": "code",
   "execution_count": 13,
   "metadata": {},
   "outputs": [
    {
     "data": {
      "text/plain": [
       "['ID',\n",
       " 'HORA',\n",
       " 'FECHA',\n",
       " 'MES',\n",
       " 'DELITO',\n",
       " 'CALLE',\n",
       " 'No.',\n",
       " 'ENTRE_CALLE_1',\n",
       " 'ENTRE_CALLE_2',\n",
       " 'COLONIA',\n",
       " 'SECTOR',\n",
       " 'CUADRANTE',\n",
       " 'TURNO',\n",
       " 'X',\n",
       " 'Y',\n",
       " 'HORA_INICIO',\n",
       " 'HORA_FIN']"
      ]
     },
     "execution_count": 13,
     "metadata": {},
     "output_type": "execute_result"
    }
   ],
   "source": [
    "cols = df.columns.tolist()\n",
    "cols"
   ]
  },
  {
   "cell_type": "code",
   "execution_count": 14,
   "metadata": {},
   "outputs": [
    {
     "data": {
      "text/plain": [
       "['ID',\n",
       " 'HORA_INICIO',\n",
       " 'HORA_FIN',\n",
       " 'FECHA',\n",
       " 'MES',\n",
       " 'DELITO',\n",
       " 'CALLE',\n",
       " 'No.',\n",
       " 'ENTRE_CALLE_1',\n",
       " 'ENTRE_CALLE_2',\n",
       " 'COLONIA',\n",
       " 'SECTOR',\n",
       " 'CUADRANTE',\n",
       " 'TURNO',\n",
       " 'X',\n",
       " 'Y']"
      ]
     },
     "execution_count": 14,
     "metadata": {},
     "output_type": "execute_result"
    }
   ],
   "source": [
    "cols = cols[:1] + cols[-2:] + cols[2:-2:]\n",
    "cols"
   ]
  },
  {
   "cell_type": "markdown",
   "metadata": {},
   "source": [
    "Se pone en este nuevo orden el dataframe."
   ]
  },
  {
   "cell_type": "code",
   "execution_count": 15,
   "metadata": {},
   "outputs": [
    {
     "name": "stdout",
     "output_type": "stream",
     "text": [
      "          ID HORA_INICIO HORA_FIN       FECHA         MES  \\\n",
      "0          1       22:30    04:00    1/1/2016       ENERO   \n",
      "1          2        6:40     6:40    1/1/2016       ENERO   \n",
      "2          3       13:30    13:30    1/1/2016       ENERO   \n",
      "3          4       03:00    05:00    1/1/2016       ENERO   \n",
      "4          5       14:00    14:00    1/1/2016       ENERO   \n",
      "5          6        0:05     0:05    1/1/2016       ENERO   \n",
      "6          7        4:00     4:00    1/1/2016       ENERO   \n",
      "7          8        4:58     4:58    1/1/2016       ENERO   \n",
      "8          9       18:13    18:13    1/1/2016       ENERO   \n",
      "9         10       19:40    19:40    1/1/2016       ENERO   \n",
      "10        11       21:10    21:10    1/1/2016       ENERO   \n",
      "11        12        7:20     7:20    1/1/2016       ENERO   \n",
      "12        13       20:09    20:09    1/1/2016       ENERO   \n",
      "13        14       15:34    15:34    1/1/2016       ENERO   \n",
      "14        15       18:53    18:53    1/1/2016       ENERO   \n",
      "15        16        2:40     2:40    1/1/2016       ENERO   \n",
      "16        17       18:17    18:17    1/1/2016       ENERO   \n",
      "17        18       19:17    19:17    1/1/2016       ENERO   \n",
      "18        19        0:00     0:00    2/1/2016       ENERO   \n",
      "19        20       19:45    19:45    2/1/2016       ENERO   \n",
      "20        21        7:30     7:30    2/1/2016       ENERO   \n",
      "21        22       21:30    21:30    2/1/2016       ENERO   \n",
      "22        23       14:00    16:30    2/1/2016       ENERO   \n",
      "23        24       20:00    20:00    2/1/2016       ENERO   \n",
      "24        25        4:00     4:00    2/1/2016       ENERO   \n",
      "25        26       13:12    13:12    2/1/2016       ENERO   \n",
      "26        27       19:58    19:58    2/1/2016       ENERO   \n",
      "27        28       20:20    20:20    2/1/2016       ENERO   \n",
      "28        29       20:45    20:45    2/1/2016       ENERO   \n",
      "29        30       22:18    22:18    2/1/2016       ENERO   \n",
      "...      ...         ...      ...         ...         ...   \n",
      "16395  16396       22:50    22:50  29/09/2017  SEPTIEMBRE   \n",
      "16396  16397       21:15    21:15  29/09/2017  SEPTIEMBRE   \n",
      "16397  16398       15:30    15:30  29/09/2017  SEPTIEMBRE   \n",
      "16398  16399       12:10    12:10  29/09/2017  SEPTIEMBRE   \n",
      "16399  16400        7:40     7:40   10/9/2017  SEPTIEMBRE   \n",
      "16400  16401       22:15    22:15   11/9/2017  SEPTIEMBRE   \n",
      "16401  16402        7:20     7:20   11/9/2017  SEPTIEMBRE   \n",
      "16402  16403        1:00     1:00  14/09/2017  SEPTIEMBRE   \n",
      "16403  16404       12:00    12:00  13/09/2017  SEPTIEMBRE   \n",
      "16404  16405       19:47    19:47  13/09/2017  SEPTIEMBRE   \n",
      "16405  16406       14:10    14:10  14/09/2017  SEPTIEMBRE   \n",
      "16406  16407       10:30    10:30  14/09/2017  SEPTIEMBRE   \n",
      "16407  16408       12:10    12:10  15/09/2017  SEPTIEMBRE   \n",
      "16408  16409        6:03     6:03  16/09/2017  SEPTIEMBRE   \n",
      "16409  16410       17:00    17:00  17/09/2017  SEPTIEMBRE   \n",
      "16410  16411        9:10     9:10  18/09/2017  SEPTIEMBRE   \n",
      "16411  16412       10:48    10:48  19/09/2017  SEPTIEMBRE   \n",
      "16412  16413       16:40    16:40  21/09/2017  SEPTIEMBRE   \n",
      "16413  16414       14:35    14:35  22/09/2017  SEPTIEMBRE   \n",
      "16414  16415        4:10     4:10  23/09/2017  SEPTIEMBRE   \n",
      "16415  16416       20:44    20:44  26/09/2017  SEPTIEMBRE   \n",
      "16416  16417       15:00    15:00  28/09/2017  SEPTIEMBRE   \n",
      "16417  16418       22:19    22:19  13/09/2017  SEPTIEMBRE   \n",
      "16418  16419        6:30     6:30  30/09/2017  SEPTIEMBRE   \n",
      "16419  16420       20:30    20:30  30/09/2017  SEPTIEMBRE   \n",
      "16420  16421       23:30    23:30  30/09/2017  SEPTIEMBRE   \n",
      "16421  16422       10:15    10:15  30/09/2017  SEPTIEMBRE   \n",
      "16422  16423       16:24    16:24  30/09/2017  SEPTIEMBRE   \n",
      "16423  16424       15:10    15:10  30/09/2017  SEPTIEMBRE   \n",
      "16424  16425       23:30    23:30  30/09/2017  SEPTIEMBRE   \n",
      "\n",
      "                          DELITO                      CALLE         No.  \\\n",
      "0               ROBO DE VEHICULO            VALLE DE MEXICO     Sin No.   \n",
      "1               ROBO DE VEHICULO              RANCHO GRANDE     Sin No.   \n",
      "2               ROBO DE VEHICULO                   LAURELES     Sin No.   \n",
      "3               ROBO DE VEHICULO              LAGO GRAN OSO          99   \n",
      "4               ROBO DE VEHICULO              LA CHAPARRITA     Sin No.   \n",
      "5                      SECUESTRO                     FAISAN          40   \n",
      "6         ROBO A CASA HABITACION            VALLE DE MEXICO         107   \n",
      "7         ROBO A CASA HABITACION              AV. PANTITLAN     Sin No.   \n",
      "8         ROBO A CASA HABITACION                  CLAVELERO          35   \n",
      "9         ROBO A CASA HABITACION          VALLE DE IRAGUADI          34   \n",
      "10        ROBO A CASA HABITACION                   PATAGUAS         196   \n",
      "11               ROBO A COMERCIO           AV. CHIMALHUACAN     Sin No.   \n",
      "12           ROBO EN VIA PUBLICA             AV. PERIFERICO     Sin No.   \n",
      "13           ROBO EN VIA PUBLICA           PRADOS DE CIPRES     Sin No.   \n",
      "14           ROBO EN VIA PUBLICA                   COATEPEC     Sin No.   \n",
      "15           ROBO EN VIA PUBLICA                 ORIENTE 30     Sin No.   \n",
      "16                     EXTORSION                    CALLE 3         254   \n",
      "17                     EXTORSION              AV. PANTITLAN     Sin No.   \n",
      "18              ROBO DE VEHICULO           VALLE DEL CEREZO         181   \n",
      "19              ROBO DE VEHICULO                  MALINALCO         108   \n",
      "20              ROBO DE VEHICULO                VALSEQUILLO     Sin No.   \n",
      "21              ROBO DE VEHICULO             FLOR SILVESTRE     Sin No.   \n",
      "22              ROBO DE VEHICULO                    CALLE 3         256   \n",
      "23              ROBO DE VEHICULO              AV. PANTITLAN     Sin No.   \n",
      "24              ROBO DE VEHICULO          CORRIDO DEL NORTE         218   \n",
      "25        ROBO A CUENTA HABIENTE                   CALLE 21         132   \n",
      "26               ROBO A COMERCIO    AV. ADOLFO LOPEZ MATEOS     Sin No.   \n",
      "27               ROBO A COMERCIO               SANTA MONICA     Sin No.   \n",
      "28               ROBO A COMERCIO  ANGEL DE LA INDEPENDENCIA     Sin No.   \n",
      "29               ROBO A COMERCIO         JORGE LUQUE LOYOLA     Sin No.   \n",
      "...                          ...                        ...         ...   \n",
      "16395        ROBO EN VIA PUBLICA           VILLA DE ALLENDE     Sin No.   \n",
      "16396        ROBO EN VIA PUBLICA            MONEDITA DE ORO     Sin No.   \n",
      "16397        ROBO EN VIA PUBLICA           AV. CHIMALHUACAN     Sin No.   \n",
      "16398        ROBO EN VIA PUBLICA                AV. TEXCOCO     Sin No.   \n",
      "16399  ROBO A TRANSPORTE PUBLICO           AV. CHIMALHUACAN     Sin No.   \n",
      "16400  ROBO A TRANSPORTE PUBLICO                AV. TEXCOCO     Sin No.   \n",
      "16401  ROBO A TRANSPORTE PUBLICO                    4ta AV.     Sin No.   \n",
      "16402  ROBO A TRANSPORTE PUBLICO             AV. PERIFERICO     Sin No.   \n",
      "16403  ROBO A TRANSPORTE PUBLICO             AV. AEROPUERTO     Sin No.   \n",
      "16404  ROBO A TRANSPORTE PUBLICO                     PAGARE     Sin No.   \n",
      "16405  ROBO A TRANSPORTE PUBLICO                AV. CENTRAL     Sin No.   \n",
      "16406  ROBO A TRANSPORTE PUBLICO        AV. VICENTE VILLADA     Sin No.   \n",
      "16407  ROBO A TRANSPORTE PUBLICO           AV. CHIMALHUACAN     Sin No.   \n",
      "16408  ROBO A TRANSPORTE PUBLICO             AV. PERIFERICO     Sin No.   \n",
      "16409  ROBO A TRANSPORTE PUBLICO    AV. ADOLFO LOPEZ MATEOS     Sin No.   \n",
      "16410  ROBO A TRANSPORTE PUBLICO             AV. PERIFERICO     Sin No.   \n",
      "16411  ROBO A TRANSPORTE PUBLICO             AV. CUAUHTEMOC     Sin No.   \n",
      "16412  ROBO A TRANSPORTE PUBLICO               CABALLO BAYO     Sin No.   \n",
      "16413  ROBO A TRANSPORTE PUBLICO         AV. NEZAHUALCOYOTL     Sin No.   \n",
      "16414  ROBO A TRANSPORTE PUBLICO           AV. CHIMALHUACAN     Sin No.   \n",
      "16415  ROBO A TRANSPORTE PUBLICO           AV. RIVA PALACIO     Sin No.   \n",
      "16416  ROBO A TRANSPORTE PUBLICO    AV. ADOLFO LOPEZ MATEOS     Sin No.   \n",
      "16417                  VIOLACION                   CALLE 33         154   \n",
      "16418            ROBO A COMERCIO           PLAZAS DE ARAGON  MZ.30 LT.8   \n",
      "16419            ROBO A COMERCIO        HACIEND DA LA NORIA     Sin No.   \n",
      "16420            ROBO A COMERCIO             VALLE DE BRAVO          48   \n",
      "16421        ROBO EN VIA PUBLICA    AV. ADOLFO LOPEZ MATEOS     Sin No.   \n",
      "16422            ROBO A COMERCIO                  CABALLITO     Sin No.   \n",
      "16423        ROBO EN VIA PUBLICA                    CORREOS     Sin No.   \n",
      "16424        ROBO EN VIA PUBLICA             VALLE DE BRAVO     Sin No.   \n",
      "\n",
      "                   ENTRE_CALLE_1      ENTRE_CALLE_2  \\\n",
      "0              VALLE DE YANG TSE     VALLE DE YUKON   \n",
      "1              AV. CARMELO PEREZ  Sin ENTRE_CALLE_2   \n",
      "2                  CIELITO LINDO  Sin ENTRE_CALLE_2   \n",
      "3                    AV. PIRULES  Sin ENTRE_CALLE_2   \n",
      "4                         4ta AV  AMANECER RANCHERO   \n",
      "5                      ESCONDIDA     CAMA DE PIEDRA   \n",
      "6              VALLE DE YANG-TSE    VALLE DEL YUKON   \n",
      "7                       COCHERAS  Sin ENTRE_CALLE_2   \n",
      "8                 CAMA DE PIEDRA          ESCONDIDA   \n",
      "9        AV. RIO DE LOS REMEDIOS     VALLE DE VOLGA   \n",
      "10                     ESCONDIDA  Sin ENTRE_CALLE_2   \n",
      "11                       ARDILLA  Sin ENTRE_CALLE_2   \n",
      "12       AV. CIRCUITO MEXIQUENSE  Sin ENTRE_CALLE_2   \n",
      "13              PRADOS DE ARAGON  Sin ENTRE_CALLE_2   \n",
      "14            AV. NEZAHUALCOYOTL  Sin ENTRE_CALLE_2   \n",
      "15                       NORTE 1  Sin ENTRE_CALLE_2   \n",
      "16                 CIELITO LINDO   AV. CHIMALHUACAN   \n",
      "17                       TLALPAN  Sin ENTRE_CALLE_2   \n",
      "18               VALLE DEL YUKON   VALLE DE SAMANZA   \n",
      "19                      CALLE 20           CALLE 21   \n",
      "20                      CALLE 14           CALLE 15   \n",
      "21              AV. CHIMALHUACAN     CAMA DE PIEDRA   \n",
      "22                 CIELITO LINDO   AV. CHIMALHUACAN   \n",
      "23                    ORIENTE 30  Sin ENTRE_CALLE_2   \n",
      "24                      MIXTECAS       LAS COSTENAS   \n",
      "25                     AVENIDA 4          AVENIDA 6   \n",
      "26            LAGUNA DE TERMINOS  Sin ENTRE_CALLE_2   \n",
      "27                  ROMERO RUBIO  Sin ENTRE_CALLE_2   \n",
      "28                     FLAMINGOS  Sin ENTRE_CALLE_2   \n",
      "29            LAGUNA DE TERMINOS  Sin ENTRE_CALLE_2   \n",
      "...                          ...                ...   \n",
      "16395                   ZARAGOZA  Sin ENTRE_CALLE_2   \n",
      "16396          AMANECER RANCHERO      CIELITO LINDO   \n",
      "16397                    ARDILLA  Sin ENTRE_CALLE_2   \n",
      "16398  JOSEFA ORTIZ DE DOMINGUEZ  Sin ENTRE_CALLE_2   \n",
      "16399                  CAMINANTE  Sin ENTRE_CALLE_2   \n",
      "16400           AV. LOPEZ MATEOS  Sin ENTRE_CALLE_2   \n",
      "16401               MEXICO LINDO  Sin ENTRE_CALLE_2   \n",
      "16402          VALLE DE SANTIAGO  Sin ENTRE_CALLE_2   \n",
      "16403          AV. PENON TEXCOCO  Sin ENTRE_CALLE_2   \n",
      "16404              CIELITO LINDO   AV. CHIMALHUACAN   \n",
      "16405             AV. PERIFERICO  Sin ENTRE_CALLE_2   \n",
      "16406                  ESCONDIDA  Sin ENTRE_CALLE_2   \n",
      "16407          AV. CARMELO PEREZ  Sin ENTRE_CALLE_2   \n",
      "16408            VALLE DE MEKONG  Sin ENTRE_CALLE_2   \n",
      "16409               INDIO TRISTE  Sin ENTRE_CALLE_2   \n",
      "16410           AV. CHIMALHUACAN  Sin ENTRE_CALLE_2   \n",
      "16411           AV. CHIMALHUACAN  Sin ENTRE_CALLE_2   \n",
      "16412              CIELITO LINDO  Sin ENTRE_CALLE_2   \n",
      "16413           AV. CHIMALHUACAN  Sin ENTRE_CALLE_2   \n",
      "16414          AV. CARMELO PEREZ  Sin ENTRE_CALLE_2   \n",
      "16415      AV. BORDO DE XOCHIACA  Sin ENTRE_CALLE_2   \n",
      "16416          GLORIETA DE COLON  Sin ENTRE_CALLE_2   \n",
      "16417                  AVENIDA 8          AVENIDA 6   \n",
      "16418          Sin ENTRE_CALLE_1  Sin ENTRE_CALLE_2   \n",
      "16419        HACIENDA DE JAJALPA  Sin ENTRE_CALLE_2   \n",
      "16420          Sin ENTRE_CALLE_1  Sin ENTRE_CALLE_2   \n",
      "16421                ESCALERILAS  Sin ENTRE_CALLE_2   \n",
      "16422                  FLAMINGOS  Sin ENTRE_CALLE_2   \n",
      "16423      GLORIETA DE PETROLEOS      AV. PANTITLAN   \n",
      "16424                    CALLE 7  Sin ENTRE_CALLE_2   \n",
      "\n",
      "                           COLONIA SECTOR CUADRANTE TURNO           X  \\\n",
      "0      VALLE DE ARAGON 1ra SECCION    1.0      C013     1  -99.051253   \n",
      "1                BENITO JUAREZ III   11.0      C112     1  -98.991762   \n",
      "2                 BENITO JUAREZ II   10.0      C108     2  -99.006214   \n",
      "3                        AGUA AZUL    9.0      C095     1  -99.033186   \n",
      "4                BENITO JUAREZ III   11.0      C116     2  -98.996179   \n",
      "5                  BENITO JUAREZ I    9.0      C092     1  -99.021046   \n",
      "6      VALLE DE ARAGON 1ra SECCION    1.0      C013     1   -99.05085   \n",
      "7                    PORFIRIO DIAZ    8.0      C081     1  -99.032195   \n",
      "8                 BENITO JUAREZ II    9.0      C094     2  -99.011126   \n",
      "9      VALLE DE ARAGON 1ra SECCION    1.0      C013     3  -99.053831   \n",
      "10                        LA PERLA   12.0      C125     3  -98.995911   \n",
      "11               BENITO JUAREZ III   12.0      C121     2  -98.999676   \n",
      "12                 LAZARO CARDENAS    2.0      C022     3  -99.030163   \n",
      "13                PRADOS DE ARAGON    2.0      C026     2  -99.045095   \n",
      "14                     LAS FUENTES    8.0      C081     2  -99.037534   \n",
      "15                         REFORMA   14.0      C146     1   -98.97161   \n",
      "16                       ESPERANZA   11.0      C118     2  -98.986571   \n",
      "17                 VICENTE VILLADA   13.0      C131     3  -99.010075   \n",
      "18     VALLE DE ARAGON 1ra SECCION    1.0      C011     3  -99.061765   \n",
      "19                      MARAVILLAS    6.0      C062     2  -99.048657   \n",
      "20                JUAREZ PANTITLAN    7.0      C075     1    -99.0555   \n",
      "21                BENITO JUAREZ II    9.0      C094     2  -99.010828   \n",
      "22                       ESPERANZA   11.0      C118     1  -98.986655   \n",
      "23                         REFORMA   15.0      C153     2  -98.972354   \n",
      "24               BENITO JUAREZ III   11.0      C111     1  -98.997543   \n",
      "25                     LAS AGUILAS   13.0      C135     1  -99.001155   \n",
      "26                       AGUA AZUL    9.0      C091     2  -99.024387   \n",
      "27                 VICENTE VILLADA   13.0      C134     2  -99.013405   \n",
      "28       METROPOLITANA 2da SECCION    8.0      C086     2  -99.028096   \n",
      "29                       AGUA AZUL    6.0      C064     2  -99.034112   \n",
      "...                            ...    ...       ...   ...         ...   \n",
      "16395                  ATLACOMULCO    8.0      C084     2  -99.039503   \n",
      "16396            BENITO JUAREZ III   10.0      C108     2  -99.012484   \n",
      "16397            BENITO JUAREZ III   12.0      C121     1  -98.999621   \n",
      "16398                  LOMA BONITA   15.0      C154     1  -98.992363   \n",
      "16399            BENITO JUAREZ III   11.0      C117     2  -98.991788   \n",
      "16400    METROPOLITANA 2da SECCION    8.0      C086     2  -99.034373   \n",
      "16401            BENITO JUAREZ III   11.0      C113     1  -99.001128   \n",
      "16402  VALLE DE ARAGON 1ra SECCION    1.0      C012     3  -99.054025   \n",
      "16403                  CIUDAD LAGO    3.0      C036     2  -99.048649   \n",
      "16404            BENITO JUAREZ III   11.0      C117     3   -98.99313   \n",
      "16405  VALLE DE ARAGON 2da SECCION    2.0      C021     1  -99.046428   \n",
      "16406   AMPLIACION VICENTE VILLADA    9.0      C094     1   -99.00873   \n",
      "16407            BENITO JUAREZ III   11.0      C117     3   -98.99783   \n",
      "16408  VALLE DE ARAGON 1ra SECCION    1.0      C013     1  -99.049857   \n",
      "16409    METROPOLITANA 2da SECCION    8.0      C086     1  -99.032881   \n",
      "16410             ESTADO DE MEXICO    5.0      C054     3  -99.055506   \n",
      "16411             ESTADO DE MEXICO    5.0      C055     2  -99.048866   \n",
      "16412              BENITO JUAREZ I   10.0      C107     3  -99.016976   \n",
      "16413                    AGUA AZUL    5.0      C056     2  -99.031117   \n",
      "16414            BENITO JUAREZ III   11.0      C117     3  -98.997715   \n",
      "16415             ESTADO DE MEXICO    5.0      C052     2  -99.037938   \n",
      "16416                    EVOLUCION    9.0      C096     2   -99.02639   \n",
      "16417       AMPLIACION LAS AGUILAS   13.0      C133     3  -98.996898   \n",
      "16418             PLAZAS DE ARAGON    2.0      C022     2   -99.03708   \n",
      "16419                    IMPULSORA    2.0      C024     1  -99.042063   \n",
      "16420                     EL BARCO    6.0      C061     1  -99.053343   \n",
      "16421    METROPOLITANA 2da SECCION    8.0      C086     3   -99.03188   \n",
      "16422    METROPOLITANA 2da SECCION    8.0      C082     3  -99.030366   \n",
      "16423                    EVOLUCION    9.0      C096     3  -99.023886   \n",
      "16424                     EL BARCO    6.0      C061     1  -99.053895   \n",
      "\n",
      "               Y  \n",
      "0      19.488201  \n",
      "1      19.409349  \n",
      "2      19.404228  \n",
      "3      19.405685  \n",
      "4      19.402763  \n",
      "5        19.4053  \n",
      "6       19.48838  \n",
      "7      19.401072  \n",
      "8      19.400301  \n",
      "9      19.492558  \n",
      "10     19.391232  \n",
      "11     19.398242  \n",
      "12     19.484162  \n",
      "13     19.469971  \n",
      "14     19.401316  \n",
      "15     19.373987  \n",
      "16     19.393911  \n",
      "17     19.390972  \n",
      "18     19.490252  \n",
      "19     19.413942  \n",
      "20     19.403751  \n",
      "21     19.402488  \n",
      "22     19.393681  \n",
      "23     19.372713  \n",
      "24     19.414801  \n",
      "25     19.378338  \n",
      "26     19.408049  \n",
      "27     19.385161  \n",
      "28     19.394907  \n",
      "29     19.412607  \n",
      "...          ...  \n",
      "16395   19.39499  \n",
      "16396  19.408511  \n",
      "16397  19.398285  \n",
      "16398  19.368292  \n",
      "16399  19.394985  \n",
      "16400  19.390035  \n",
      "16401  19.406603  \n",
      "16402  19.494142  \n",
      "16403  19.453246  \n",
      "16404  19.395638  \n",
      "16405  19.490579  \n",
      "16406  19.398074  \n",
      "16407  19.397894  \n",
      "16408  19.491996  \n",
      "16409  19.392304  \n",
      "16410  19.422254  \n",
      "16411  19.420477  \n",
      "16412   19.40934  \n",
      "16413  19.413911  \n",
      "16414  19.397971  \n",
      "16415  19.425873  \n",
      "16416  19.403866  \n",
      "16417  19.378867  \n",
      "16418   19.48085  \n",
      "16419  19.479762  \n",
      "16420   19.41834  \n",
      "16421  19.394309  \n",
      "16422  19.396218  \n",
      "16423  19.399089  \n",
      "16424  19.418474  \n",
      "\n",
      "[16425 rows x 16 columns]\n"
     ]
    }
   ],
   "source": [
    "df = df[cols]\n",
    "print(df)"
   ]
  },
  {
   "cell_type": "markdown",
   "metadata": {},
   "source": [
    "## Remover comas"
   ]
  },
  {
   "cell_type": "markdown",
   "metadata": {},
   "source": [
    "En algunos casos el valor de un atributo puede contener una coma, esto no es deseable ya que se pueden producir erroes cuando se lee el archivo para ser procesado, en consecuencia es necesario eliminarlas."
   ]
  },
  {
   "cell_type": "code",
   "execution_count": 16,
   "metadata": {},
   "outputs": [
    {
     "data": {
      "text/plain": [
       "'MZ. 130, LT. 4'"
      ]
     },
     "execution_count": 16,
     "metadata": {},
     "output_type": "execute_result"
    }
   ],
   "source": [
    "df['No.'][1097]"
   ]
  },
  {
   "cell_type": "markdown",
   "metadata": {},
   "source": [
    "Para eliminarlas basta con utilizar el método ```replace()``` de una serie de la manera siguiente:"
   ]
  },
  {
   "cell_type": "code",
   "execution_count": 17,
   "metadata": {},
   "outputs": [],
   "source": [
    "for column in df.columns:\n",
    "    df[column] = df[column].str.replace(',', '.', regex=False)"
   ]
  },
  {
   "cell_type": "code",
   "execution_count": 18,
   "metadata": {},
   "outputs": [
    {
     "data": {
      "text/plain": [
       "'MZ. 130. LT. 4'"
      ]
     },
     "execution_count": 18,
     "metadata": {},
     "output_type": "execute_result"
    }
   ],
   "source": [
    "df['No.'][1097]"
   ]
  },
  {
   "cell_type": "markdown",
   "metadata": {},
   "source": [
    "# Crear atributo 'coordenada'\n",
    "\n",
    "Los atributos $X$ y $Y$ deben ser combinados en un solo atributo llamado COORDENADA, esta transformación es necesaria para utilizar una función de similitud basada en la coordenada en la que ocurrio un delito."
   ]
  },
  {
   "cell_type": "code",
   "execution_count": 19,
   "metadata": {},
   "outputs": [],
   "source": [
    "df['COORDENADA'] = df['X'] + ' ' + df['Y']\n",
    "df = df.drop('X', 1)\n",
    "df = df.drop('Y', 1)"
   ]
  },
  {
   "cell_type": "code",
   "execution_count": 20,
   "metadata": {},
   "outputs": [],
   "source": [
    "df.to_csv('Delitos_cleaned.csv')"
   ]
  }
 ],
 "metadata": {
  "kernelspec": {
   "display_name": "Python 3",
   "language": "python",
   "name": "python3"
  },
  "language_info": {
   "codemirror_mode": {
    "name": "ipython",
    "version": 3
   },
   "file_extension": ".py",
   "mimetype": "text/x-python",
   "name": "python",
   "nbconvert_exporter": "python",
   "pygments_lexer": "ipython3",
   "version": "3.6.8"
  }
 },
 "nbformat": 4,
 "nbformat_minor": 2
}
