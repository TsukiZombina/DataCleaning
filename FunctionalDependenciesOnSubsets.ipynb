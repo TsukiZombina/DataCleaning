{
 "cells": [
  {
   "cell_type": "code",
   "execution_count": 5,
   "metadata": {},
   "outputs": [
    {
     "data": {
      "text/plain": [
       "False"
      ]
     },
     "execution_count": 5,
     "metadata": {},
     "output_type": "execute_result"
    }
   ],
   "source": [
    "import pandas as pd\n",
    "import numpy as np\n",
    "\n",
    "df = pd.read_csv('test.csv')\n",
    "\n",
    "alpha = ['B', 'C', 'D']\n",
    "f = ['E']\n",
    "\n",
    "df_filtered = df[alpha + f]\n",
    "\n",
    "assumed_tuples = []\n",
    "flag = True\n",
    "\n",
    "for index in df_filtered.index.values:\n",
    "    found = False\n",
    "    for tuple_index in assumed_tuples:\n",
    "        if df_filtered.iloc[index].equals(df_filtered.iloc[tuple_index]):\n",
    "            found = True\n",
    "            \n",
    "            flag = df.iloc[index]['F'] == df.iloc[tuple_index]['F']\n",
    "            \n",
    "            break;\n",
    "            \n",
    "    if found is False:\n",
    "        assumed_tuples.append(index)\n",
    "        \n",
    "flag"
   ]
  },
  {
   "cell_type": "code",
   "execution_count": null,
   "metadata": {},
   "outputs": [],
   "source": []
  }
 ],
 "metadata": {
  "kernelspec": {
   "display_name": "Python 3",
   "language": "python",
   "name": "python3"
  },
  "language_info": {
   "codemirror_mode": {
    "name": "ipython",
    "version": 3
   },
   "file_extension": ".py",
   "mimetype": "text/x-python",
   "name": "python",
   "nbconvert_exporter": "python",
   "pygments_lexer": "ipython3",
   "version": "3.5.3"
  }
 },
 "nbformat": 4,
 "nbformat_minor": 2
}
